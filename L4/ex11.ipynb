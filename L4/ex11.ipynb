{
 "cells": [
  {
   "cell_type": "code",
   "execution_count": 168,
   "metadata": {
    "slideshow": {
     "slide_type": "-"
    }
   },
   "outputs": [],
   "source": [
    "import pandas as pd\n",
    "import numpy as np\n",
    "import matplotlib.pyplot as plt\n",
    "import statsmodels.api as sm\n",
    "import seaborn as sns\n",
    "from patsy import dmatrices\n",
    "from sklearn import metrics"
   ]
  },
  {
   "cell_type": "markdown",
   "metadata": {},
   "source": [
    "# 1. Data ingest #"
   ]
  },
  {
   "cell_type": "code",
   "execution_count": 169,
   "metadata": {},
   "outputs": [
    {
     "name": "stdout",
     "output_type": "stream",
     "text": [
      "    mpg  cylinders  displacement horsepower  weight  acceleration  year   \n",
      "0  18.0          8         307.0        130    3504          12.0    70  \\\n",
      "1  15.0          8         350.0        165    3693          11.5    70   \n",
      "2  18.0          8         318.0        150    3436          11.0    70   \n",
      "3  16.0          8         304.0        150    3433          12.0    70   \n",
      "4  17.0          8         302.0        140    3449          10.5    70   \n",
      "\n",
      "   origin                       name  \n",
      "0       1  chevrolet chevelle malibu  \n",
      "1       1          buick skylark 320  \n",
      "2       1         plymouth satellite  \n",
      "3       1              amc rebel sst  \n",
      "4       1                ford torino  \n"
     ]
    }
   ],
   "source": [
    "generator = np.random.default_rng(1)\n",
    "mask = generator.random(len(df)) < 0.8\n",
    "df = pd.read_csv(\"Auto.csv\")\n",
    "# df = df.replace('?', np.nan)\n",
    "# df = df.ffill()\n",
    "print(df.head())\n"
   ]
  },
  {
   "cell_type": "code",
   "execution_count": 170,
   "metadata": {},
   "outputs": [
    {
     "data": {
      "text/plain": [
       "(40.366921234924234, 40.86516925522296)"
      ]
     },
     "execution_count": 170,
     "metadata": {},
     "output_type": "execute_result"
    }
   ],
   "source": [
    "def myLinReg(model_formula, df, printMSE = False):\n",
    "    \"\"\"\n",
    "    Function returns the summary for fitted linear model.\n",
    "    \n",
    "    Parameter \"model_formula\" should be a patsy formula describing the model.\n",
    "    Parameter \"df\" is a dataframe.\n",
    "    \"\"\"\n",
    "\n",
    "    train = df[mask]\n",
    "    valid = df[~mask]\n",
    "\n",
    "    # Prepare the data (dmatrices is from patsy library)\n",
    "    y_train, X_train = dmatrices(model_formula, data=train, return_type='dataframe')   \n",
    "    y_valid, X_valid = dmatrices(model_formula, data=valid, return_type='dataframe')\n",
    "\n",
    "    # Train the model\n",
    "    model = sm.OLS(y_train, X_train) \n",
    "    result = model.fit() \n",
    "\n",
    "    y_train_pred = result.predict(X_train)\n",
    "    mse_train = metrics.mean_squared_error(y_train, y_train_pred)\n",
    "\n",
    "    y_valid_pred = result.predict(X_valid)\n",
    "    mse_test = metrics.mean_squared_error(y_valid, y_valid_pred)\n",
    "\n",
    "    return (mse_train, mse_test)\n",
    "\n",
    "model = 'mpg ~ year'\n",
    "\n",
    "myLinReg(model, df, True)"
   ]
  },
  {
   "cell_type": "code",
   "execution_count": 171,
   "metadata": {},
   "outputs": [
    {
     "name": "stdout",
     "output_type": "stream",
     "text": [
      "mpg             float64\n",
      "cylinders         int64\n",
      "displacement    float64\n",
      "horsepower       object\n",
      "weight            int64\n",
      "acceleration    float64\n",
      "year              int64\n",
      "origin            int64\n",
      "name             object\n",
      "dtype: object\n"
     ]
    },
    {
     "data": {
      "text/plain": [
       "(34.196607031096455, 38.35488511340196)"
      ]
     },
     "execution_count": 171,
     "metadata": {},
     "output_type": "execute_result"
    }
   ],
   "source": [
    "df = df.astype({'year': 'category'})\n",
    "print(df_cat.dtypes)\n",
    "myLinReg(model, df, True)"
   ]
  }
 ],
 "metadata": {
  "kernelspec": {
   "display_name": "Python 3",
   "language": "python",
   "name": "python3"
  },
  "language_info": {
   "codemirror_mode": {
    "name": "ipython",
    "version": 3
   },
   "file_extension": ".py",
   "mimetype": "text/x-python",
   "name": "python",
   "nbconvert_exporter": "python",
   "pygments_lexer": "ipython3",
   "version": "3.11.0"
  }
 },
 "nbformat": 4,
 "nbformat_minor": 1
}
