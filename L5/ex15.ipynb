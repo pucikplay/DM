{
 "cells": [
  {
   "cell_type": "markdown",
   "metadata": {},
   "source": [
    "# Text Classification #"
   ]
  },
  {
   "cell_type": "markdown",
   "metadata": {},
   "source": [
    "### 20newsgroups dataset ###\n",
    "20,000 newsgroup documents, partitioned (nearly) evenly across 20 different newsgroups."
   ]
  },
  {
   "cell_type": "code",
   "execution_count": 10,
   "metadata": {},
   "outputs": [],
   "source": [
    "from sklearn.datasets import fetch_20newsgroups\n",
    "train = fetch_20newsgroups(subset='train', shuffle=True)\n",
    "test = fetch_20newsgroups(subset='test', shuffle=True)"
   ]
  },
  {
   "cell_type": "code",
   "execution_count": 11,
   "metadata": {},
   "outputs": [],
   "source": [
    "import numpy as np\n",
    "np.set_printoptions(precision=2)\n",
    "from scipy import sparse\n",
    "from sklearn.feature_extraction.text import CountVectorizer\n",
    "from sklearn.feature_extraction.text import HashingVectorizer\n",
    "from sklearn.feature_extraction.text import TfidfTransformer\n",
    "from sklearn.feature_extraction.text import TfidfVectorizer\n",
    "from sklearn.pipeline import Pipeline\n",
    "from sklearn.linear_model import SGDClassifier\n",
    "from nltk.stem.snowball import SnowballStemmer\n",
    "from sklearn.model_selection import StratifiedKFold\n",
    "from sklearn.model_selection import cross_val_predict\n",
    "from sklearn.metrics import accuracy_score"
   ]
  },
  {
   "cell_type": "markdown",
   "metadata": {},
   "source": [
    "### Pipeline ###"
   ]
  },
  {
   "cell_type": "code",
   "execution_count": 12,
   "metadata": {},
   "outputs": [],
   "source": [
    "stemmer = SnowballStemmer('english', ignore_stopwords=True)\n",
    "\n",
    "def preprocessor(x):\n",
    "  return stemmer.stem(x)\n",
    "\n",
    "pipe_clf = Pipeline([\n",
    "    ('vect', CountVectorizer()),\n",
    "    ('tfidf', TfidfTransformer()),\n",
    "    ('clf', SGDClassifier()),\n",
    "], verbose=True)\n",
    "\n",
    "# pipe_clf = pipe_clf.fit(train.data, train.target)"
   ]
  },
  {
   "cell_type": "code",
   "execution_count": 13,
   "metadata": {},
   "outputs": [],
   "source": [
    "# cv_predictions = cross_val_predict(pipe_clf, test.data, test.target, cv=StratifiedKFold(n_splits=5, shuffle=True), n_jobs=-1)\n",
    "# cv_accuracy = accuracy_score(test.target, cv_predictions)\n",
    "# print(cv_accuracy)\n",
    "\n",
    "# predicted = pipe_clf.predict(test.data)\n",
    "# np.mean(predicted == test.target)"
   ]
  },
  {
   "cell_type": "code",
   "execution_count": 16,
   "metadata": {},
   "outputs": [
    {
     "name": "stdout",
     "output_type": "stream",
     "text": [
      "[Pipeline] .............. (step 1 of 3) Processing vect, total=   7.0s\n",
      "[Pipeline] ............. (step 2 of 3) Processing tfidf, total=   0.8s\n",
      "[Pipeline] ............... (step 3 of 3) Processing clf, total=   3.4s\n",
      "Best score: 0.934771062410601\n",
      "Best param: {'clf__alpha': 0.0001, 'clf__loss': 'hinge', 'tfidf__sublinear_tf': True, 'tfidf__use_idf': True, 'vect__ngram_range': (1, 2), 'vect__stop_words': 'english'}\n"
     ]
    }
   ],
   "source": [
    "from sklearn.model_selection import GridSearchCV\n",
    "parameters = {\n",
    "    'vect__ngram_range': [(1, 1), (1, 2), (1, 3)],\n",
    "    'vect__stop_words': ('english',),\n",
    "    'tfidf__use_idf': (True,),\n",
    "    'tfidf__sublinear_tf': (True,),\n",
    "    'clf__loss': ('hinge', 'log_loss', 'squared_error'),\n",
    "    'clf__alpha': (1e-3, 1e-4, 1e-5),\n",
    "}\n",
    "\n",
    "gs_clf = GridSearchCV(pipe_clf, parameters, cv=5, n_jobs=-1)\n",
    "gs_clf = gs_clf.fit(train.data, train.target)\n",
    "print(\"Best score: %s\" % gs_clf.best_score_) \n",
    "print(\"Best param: %s\" % gs_clf.best_params_) "
   ]
  }
 ],
 "metadata": {
  "kernelspec": {
   "display_name": "Python 3",
   "language": "python",
   "name": "python3"
  },
  "language_info": {
   "codemirror_mode": {
    "name": "ipython",
    "version": 3
   },
   "file_extension": ".py",
   "mimetype": "text/x-python",
   "name": "python",
   "nbconvert_exporter": "python",
   "pygments_lexer": "ipython3",
   "version": "3.10.13"
  }
 },
 "nbformat": 4,
 "nbformat_minor": 2
}
