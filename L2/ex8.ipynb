{
 "cells": [
  {
   "cell_type": "code",
   "execution_count": 17,
   "metadata": {},
   "outputs": [
    {
     "name": "stdout",
     "output_type": "stream",
     "text": [
      "upholding upholding things come unto lord thy servant lord god israel shall eat bread shall come pass day lord thy servant lord god hath done shall eat drink offerings lord thy god israel shall eat drink offerings lord thy servant david father mother name shall come pass shall come pass day shall eat bread drink wine strong drink wine oil upon thee thou shalt make thee thou shalt make thee thou shalt thou shalt make thee thou shalt thou hast thou hast thou shalt make atonement lord thy god hath done unto thee thou hast made fire unto thee shall come\n"
     ]
    }
   ],
   "source": [
    "with open(\"gutenber_bible.txt\", encoding=\"utf-8\") as f:\n",
    "    raw_text = f.read()\n",
    "\n",
    "with open(\"NLTK's list of english stopwords.txt\", encoding='utf-8') as f:\n",
    "    stopwords = [word for line in f for word in line.split()]\n",
    "\n",
    "import re\n",
    "words = re.sub(\"[^a-z0-9]+\", \" \", raw_text.lower()).split(\" \")\n",
    "\n",
    "filtered_words = [w for w in words if not w in stopwords and len(w) >= 3]\n",
    "\n",
    "word_set = set(filtered_words)\n",
    "\n",
    "successors = {word: {} for word in word_set}\n",
    "\n",
    "for i in range(len(filtered_words) - 1):\n",
    "    successors[filtered_words[i]][filtered_words[i+1]] = successors[filtered_words[i]].get(filtered_words[i+1],0) + 1\n",
    "\n",
    "for word in successors.keys():\n",
    "    successors[word] = sorted(successors[word].items(), key=lambda x: x[1], reverse=True)\n",
    "\n",
    "import random as rnd\n",
    "def gen_paragraph(word, successors, par_len):\n",
    "    paragraph = [word]\n",
    "    curr_word = word\n",
    "    for _ in range(par_len):\n",
    "        r = rnd.random()\n",
    "        if len(successors[curr_word]) > 1 and rnd.random() < 0.2:\n",
    "            curr_word = successors[curr_word][0][0]\n",
    "        elif len(successors[curr_word]) > 1 and rnd.random() < 0.8:\n",
    "            \n",
    "        paragraph.append(curr_word)\n",
    "\n",
    "    return ' '.join(paragraph)\n",
    "\n",
    "first_word = rnd.choice(list(word_set))\n",
    "print(gen_paragraph(first_word, successors, 100))"
   ]
  }
 ],
 "metadata": {
  "kernelspec": {
   "display_name": "Python 3",
   "language": "python",
   "name": "python3"
  },
  "language_info": {
   "codemirror_mode": {
    "name": "ipython",
    "version": 3
   },
   "file_extension": ".py",
   "mimetype": "text/x-python",
   "name": "python",
   "nbconvert_exporter": "python",
   "pygments_lexer": "ipython3",
   "version": "3.11.0"
  }
 },
 "nbformat": 4,
 "nbformat_minor": 2
}
