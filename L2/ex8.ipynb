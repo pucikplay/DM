{
 "cells": [
  {
   "cell_type": "code",
   "execution_count": 19,
   "metadata": {},
   "outputs": [
    {
     "name": "stdout",
     "output_type": "stream",
     "text": [
      "tormentors till come pass shall come pass day shall eat bread drink offerings two hundred fifty cubits breadth thereof thou shalt thou shalt thou hast made fire unto lord god hath given unto moses said unto thee thou hast thou hast thou shalt thou shalt thou shalt thou shalt thou shalt thou hast thou shalt make thee shall come unto lord thy servant lord god shall come pass shall come pass day lord god hath given thee thou shalt thou hast thou hast thou art thou art god israel shall come unto thee thou art thou shalt make atonement lord god\n"
     ]
    }
   ],
   "source": [
    "with open(\"gutenber_bible.txt\", encoding=\"utf-8\") as f:\n",
    "    raw_text = f.read()\n",
    "\n",
    "with open(\"NLTK's list of english stopwords.txt\", encoding='utf-8') as f:\n",
    "    stopwords = [word for line in f for word in line.split()]\n",
    "\n",
    "import re\n",
    "words = re.sub(\"[^a-z0-9]+\", \" \", raw_text.lower()).split(\" \")\n",
    "\n",
    "filtered_words = [w for w in words if not w in stopwords and len(w) >= 3]\n",
    "\n",
    "word_set = set(filtered_words)\n",
    "\n",
    "successors = {word: {} for word in word_set}\n",
    "\n",
    "for i in range(len(filtered_words) - 1):\n",
    "    successors[filtered_words[i]][filtered_words[i+1]] = successors[filtered_words[i]].get(filtered_words[i+1],0) + 1\n",
    "\n",
    "for word in successors.keys():\n",
    "    successors[word] = sorted(successors[word].items(), key=lambda x: x[1], reverse=True)\n",
    "\n",
    "import random as rnd\n",
    "def gen_paragraph(word, successors, par_len):\n",
    "    paragraph = [word]\n",
    "    curr_word = word\n",
    "    for _ in range(par_len):\n",
    "        r = rnd.random()\n",
    "        if len(successors[curr_word]) > 2 and rnd.random() < 0.1:\n",
    "            curr_word = successors[curr_word][2][0]\n",
    "        elif len(successors[curr_word]) > 1 and rnd.random() < 0.4:\n",
    "            curr_word = successors[curr_word][1][0]\n",
    "        else:\n",
    "            curr_word = successors[curr_word][0][0]\n",
    "\n",
    "        paragraph.append(curr_word)\n",
    "\n",
    "    return ' '.join(paragraph)\n",
    "\n",
    "first_word = rnd.choice(list(word_set))\n",
    "print(gen_paragraph(first_word, successors, 50))"
   ]
  }
 ],
 "metadata": {
  "kernelspec": {
   "display_name": "Python 3",
   "language": "python",
   "name": "python3"
  },
  "language_info": {
   "codemirror_mode": {
    "name": "ipython",
    "version": 3
   },
   "file_extension": ".py",
   "mimetype": "text/x-python",
   "name": "python",
   "nbconvert_exporter": "python",
   "pygments_lexer": "ipython3",
   "version": "3.11.0"
  }
 },
 "nbformat": 4,
 "nbformat_minor": 2
}
